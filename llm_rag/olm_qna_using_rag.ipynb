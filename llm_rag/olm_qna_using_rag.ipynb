{
 "cells": [
  {
   "cell_type": "markdown",
   "id": "46992c86-b56c-446c-a86e-3b8ba9b9f383",
   "metadata": {},
   "source": [
    "# OLM Docs FAQ/Slack Bot\n"
   ]
  },
  {
   "cell_type": "markdown",
   "id": "cd41c9a6",
   "metadata": {},
   "source": [
    "## Import dependencies and credentials"
   ]
  },
  {
   "cell_type": "code",
   "execution_count": 2,
   "id": "8ba2bc3d-f79f-45d7-beb9-727713ff0cc8",
   "metadata": {
    "tags": []
   },
   "outputs": [],
   "source": [
    "# pip install langchain langchain-openai python-dotenv nltk openai chromadb tiktoken"
   ]
  },
  {
   "cell_type": "code",
   "execution_count": 4,
   "id": "c0cc37b2-3872-4357-90ff-432e665d2dc0",
   "metadata": {
    "tags": []
   },
   "outputs": [],
   "source": [
    "__import__('pysqlite3')\n",
    "import sys\n",
    "sys.modules['sqlite3'] = sys.modules.pop('pysqlite3')\n",
    "from typing import Optional\n",
    "\n",
    "from chromadb.api.types import Documents, EmbeddingFunction, Embeddings\n",
    "from dotenv import load_dotenv\n",
    "import re\n",
    "import requests\n",
    "import pandas as pd\n",
    "from langchain_openai import OpenAIEmbeddings\n",
    "from langchain.text_splitter import MarkdownTextSplitter\n",
    "from langchain.vectorstores import Chroma\n",
    "from langchain.prompts import PromptTemplate\n",
    "from langchain.llms import OpenAI\n",
    "from langchain.document_loaders import TextLoader, DirectoryLoader\n",
    "from langchain_openai import ChatOpenAI\n",
    "from langchain.schema import StrOutputParser\n",
    "from nltk.translate.bleu_score import sentence_bleu\n",
    "from nltk.translate.bleu_score import SmoothingFunction\n",
    "\n",
    "import time\n",
    "import chromadb\n",
    "from chromadb.api.types import Documents, EmbeddingFunction, Embeddings\n",
    "from dotenv import load_dotenv, find_dotenv"
   ]
  },
  {
   "cell_type": "markdown",
   "id": "6c1f7ab0-44f1-4e6e-b97f-92419f0946bb",
   "metadata": {
    "id": "1465110f-d3a0-442e-9d81-2ca1b2b84bb1"
   },
   "source": [
    "### Step 1:\n",
    "In the `credentials.env` file in the folder, change the XXX value for the `OPENAI_API_KEY` to your actual OPENAI API KEY"
   ]
  },
  {
   "cell_type": "code",
   "execution_count": 5,
   "id": "03ed7f07-9c8d-48e8-8b64-365089259fdf",
   "metadata": {
    "id": "756b5eb5-05dc-4343-a60a-815eccaa2826",
    "tags": []
   },
   "outputs": [
    {
     "data": {
      "text/plain": [
       "True"
      ]
     },
     "execution_count": 5,
     "metadata": {},
     "output_type": "execute_result"
    }
   ],
   "source": [
    "load_dotenv(find_dotenv(\"credentials.env\"), override=True)"
   ]
  },
  {
   "cell_type": "markdown",
   "id": "f1cdfa11-78af-47f2-8cb9-41576a2b076b",
   "metadata": {
    "id": "a2729dec-ffb5-46bb-b8db-8c04f55da7b3"
   },
   "source": [
    "## Read the Dataset and create Vector Store"
   ]
  },
  {
   "cell_type": "code",
   "execution_count": 6,
   "id": "e4cb93f1-59d7-4d33-adf3-df7a3c710a7f",
   "metadata": {
    "tags": []
   },
   "outputs": [],
   "source": [
    "loader = DirectoryLoader('../data/external/olm/docs/', glob=\"**/*.md\", loader_cls=TextLoader)\n",
    "documents = loader.load()"
   ]
  },
  {
   "cell_type": "code",
   "execution_count": 7,
   "id": "45c0c87f-c7f9-4733-a417-8498b5639404",
   "metadata": {
    "tags": []
   },
   "outputs": [],
   "source": [
    "# documents"
   ]
  },
  {
   "cell_type": "code",
   "execution_count": 8,
   "id": "0ed36287-4a36-47e3-9f0c-70530e601aab",
   "metadata": {
    "tags": []
   },
   "outputs": [
    {
     "data": {
      "text/plain": [
       "True"
      ]
     },
     "execution_count": 8,
     "metadata": {},
     "output_type": "execute_result"
    }
   ],
   "source": [
    "## Verification\n",
    "'../data/external/olm/docs/slack_samples.md' in [i.metadata['source'] for i in documents]"
   ]
  },
  {
   "cell_type": "code",
   "execution_count": 9,
   "id": "b9293483-6482-4f87-9fc2-b1d9cf44cda6",
   "metadata": {
    "tags": []
   },
   "outputs": [],
   "source": [
    "## Split the documents into chunks. Is there a better way than hardcoding size as 1000?\n",
    "text_splitter = MarkdownTextSplitter(chunk_size=1000, chunk_overlap=0)\n",
    "texts = text_splitter.split_documents(documents)"
   ]
  },
  {
   "cell_type": "code",
   "execution_count": 10,
   "id": "5097760b-929e-4c23-9b41-26e87bb29751",
   "metadata": {
    "tags": []
   },
   "outputs": [],
   "source": [
    "embeddings = OpenAIEmbeddings()"
   ]
  },
  {
   "cell_type": "code",
   "execution_count": 11,
   "id": "39f3f2f1-7891-46a8-b568-23fa57008889",
   "metadata": {
    "tags": []
   },
   "outputs": [],
   "source": [
    "docsearch = Chroma.from_documents(texts, embeddings, persist_directory='database')"
   ]
  },
  {
   "cell_type": "code",
   "execution_count": 12,
   "id": "f143a051-2431-484a-9d43-87c352d65795",
   "metadata": {
    "tags": []
   },
   "outputs": [],
   "source": [
    "qa = pd.read_csv(\"../data/test/sample_qna.csv\")"
   ]
  },
  {
   "cell_type": "code",
   "execution_count": 13,
   "id": "9e12154c-7588-4244-a466-d96290c0706c",
   "metadata": {
    "tags": []
   },
   "outputs": [
    {
     "data": {
      "text/html": [
       "<div>\n",
       "<style scoped>\n",
       "    .dataframe tbody tr th:only-of-type {\n",
       "        vertical-align: middle;\n",
       "    }\n",
       "\n",
       "    .dataframe tbody tr th {\n",
       "        vertical-align: top;\n",
       "    }\n",
       "\n",
       "    .dataframe thead th {\n",
       "        text-align: right;\n",
       "    }\n",
       "</style>\n",
       "<table border=\"1\" class=\"dataframe\">\n",
       "  <thead>\n",
       "    <tr style=\"text-align: right;\">\n",
       "      <th></th>\n",
       "      <th>Question</th>\n",
       "      <th>Answer</th>\n",
       "    </tr>\n",
       "  </thead>\n",
       "  <tbody>\n",
       "    <tr>\n",
       "      <th>0</th>\n",
       "      <td>I have an operator catalog image with me, `qua...</td>\n",
       "      <td>You can make the operators available for insta...</td>\n",
       "    </tr>\n",
       "    <tr>\n",
       "      <th>1</th>\n",
       "      <td>I added a catalog source to my cluster, but I ...</td>\n",
       "      <td>Once you add a catalog source to your cluster,...</td>\n",
       "    </tr>\n",
       "    <tr>\n",
       "      <th>2</th>\n",
       "      <td>How can I see what operators are available for...</td>\n",
       "      <td>You can see what operators are available for i...</td>\n",
       "    </tr>\n",
       "    <tr>\n",
       "      <th>3</th>\n",
       "      <td>How can I install an operator on my cluster fr...</td>\n",
       "      <td>You can see what operators are available for i...</td>\n",
       "    </tr>\n",
       "    <tr>\n",
       "      <th>4</th>\n",
       "      <td>Hey, looking for guidance on how to do Tier 2 ...</td>\n",
       "      <td>You're going to want to avoid a channel called...</td>\n",
       "    </tr>\n",
       "  </tbody>\n",
       "</table>\n",
       "</div>"
      ],
      "text/plain": [
       "                                            Question  \\\n",
       "0  I have an operator catalog image with me, `qua...   \n",
       "1  I added a catalog source to my cluster, but I ...   \n",
       "2  How can I see what operators are available for...   \n",
       "3  How can I install an operator on my cluster fr...   \n",
       "4  Hey, looking for guidance on how to do Tier 2 ...   \n",
       "\n",
       "                                              Answer  \n",
       "0  You can make the operators available for insta...  \n",
       "1  Once you add a catalog source to your cluster,...  \n",
       "2  You can see what operators are available for i...  \n",
       "3  You can see what operators are available for i...  \n",
       "4  You're going to want to avoid a channel called...  "
      ]
     },
     "execution_count": 13,
     "metadata": {},
     "output_type": "execute_result"
    }
   ],
   "source": [
    "qa.head()"
   ]
  },
  {
   "cell_type": "code",
   "execution_count": 14,
   "id": "5b08a3ee-7c0b-4d2d-b7a1-197598ae5c3c",
   "metadata": {
    "tags": []
   },
   "outputs": [],
   "source": [
    "questions = qa['Question'].tolist()\n",
    "real_answers = qa['Answer'].tolist()\n",
    "generated_answers = list()"
   ]
  },
  {
   "cell_type": "code",
   "execution_count": 15,
   "id": "8250e4c4-f0a3-4e7a-80c8-1836281fedec",
   "metadata": {
    "tags": []
   },
   "outputs": [],
   "source": [
    "selected_questions = questions[0:2]"
   ]
  },
  {
   "cell_type": "markdown",
   "id": "29c3fbdb-b03c-4996-8f37-f1fb2391d1ca",
   "metadata": {},
   "source": [
    "## Without RAG - Basic Prompt"
   ]
  },
  {
   "cell_type": "code",
   "execution_count": 16,
   "id": "fa9bed54-d1db-4250-b80d-8a4cb6f03a34",
   "metadata": {
    "tags": []
   },
   "outputs": [],
   "source": [
    "template = \"\"\"Question: {question}\n",
    "\n",
    "Answer:\"\"\"\n",
    "\n",
    "prompt = PromptTemplate(template=template, input_variables=[\"question\"])"
   ]
  },
  {
   "cell_type": "code",
   "execution_count": 17,
   "id": "f7016c1b-c83d-4c3f-975a-0f84592f4bcd",
   "metadata": {
    "tags": []
   },
   "outputs": [
    {
     "data": {
      "text/plain": [
       "'OLM stands for Outlook for Mac. It is a software application developed by Microsoft for Mac users to manage their email, contacts, calendar, and other personal information. OLM is specifically designed for Mac devices and provides similar functionality to Microsoft Outlook for Windows.'"
      ]
     },
     "execution_count": 17,
     "metadata": {},
     "output_type": "execute_result"
    }
   ],
   "source": [
    "runnable_chain = prompt | ChatOpenAI() | StrOutputParser()\n",
    "runnable_chain.invoke({\"question\": \"Hi what is OLM?\"})"
   ]
  },
  {
   "cell_type": "code",
   "execution_count": 18,
   "id": "e63688e0-ed22-48c0-be84-2322f9da85c7",
   "metadata": {
    "tags": []
   },
   "outputs": [],
   "source": [
    "def answer_question(query, runnable):\n",
    "    \"\"\"\n",
    "    Takes in query, and llm chain to generate answer\n",
    "    \"\"\"\n",
    "    ## Generate answer\n",
    "    # answer = chain({\"question\": query}, return_only_outputs=True)\n",
    "    answer = runnable.invoke({\"question\": query})\n",
    "    return answer"
   ]
  },
  {
   "cell_type": "code",
   "execution_count": 19,
   "id": "586829e7-b7d3-419a-87a4-11b020647633",
   "metadata": {
    "tags": []
   },
   "outputs": [
    {
     "name": "stdout",
     "output_type": "stream",
     "text": [
      "Q: I have an operator catalog image with me, `quay.io/operator-framework/upstream-community-operators:latest`, how do I make the operators included in the catalog image, available for installation on my cluster? \n",
      "\n",
      "\n",
      "A: To make the operators included in the catalog image available for installation on your cluster, you need to perform a few steps:\n",
      "\n",
      "1. Pull the catalog image to your local machine:\n",
      "   ```\n",
      "   docker pull quay.io/operator-framework/upstream-community-operators:latest\n",
      "   ```\n",
      "\n",
      "2. Tag the pulled image with a local repository name:\n",
      "   ```\n",
      "   docker tag quay.io/operator-framework/upstream-community-operators:latest my-catalog-image:latest\n",
      "   ```\n",
      "\n",
      "3. Push the tagged image to a container registry accessible to your cluster:\n",
      "   ```\n",
      "   docker push my-registry/my-catalog-image:latest\n",
      "   ```\n",
      "\n",
      "4. Create a CatalogSource object in your cluster, specifying the image location and registry details. For example, create a YAML file `catalog-source.yaml` with the following content:\n",
      "   ```yaml\n",
      "   apiVersion: operators.coreos.com/v1alpha1\n",
      "   kind: CatalogSource\n",
      "   metadata:\n",
      "     name: my-catalog\n",
      "     namespace: my-namespace\n",
      "   spec:\n",
      "     sourceType: grpc\n",
      "     image: my-registry/my-catalog-image:latest\n",
      "   ```\n",
      "\n",
      "5. Apply the YAML file to create the CatalogSource object:\n",
      "   ```\n",
      "   kubectl apply -f catalog-source.yaml\n",
      "   ```\n",
      "\n",
      "6. Verify that the CatalogSource is created successfully:\n",
      "   ```\n",
      "   kubectl get catalogsource -n my-namespace\n",
      "   ```\n",
      "\n",
      "7. Once the CatalogSource is created, you can use the operators included in the catalog for installation. For example, if an operator named `my-operator` is included in the catalog, you can install it using the following command:\n",
      "   ```\n",
      "   kubectl create -f - <<EOF\n",
      "   apiVersion: operators.coreos.com/v1alpha1\n",
      "   kind: Subscription\n",
      "   metadata:\n",
      "     name: my-operator-subscription\n",
      "     namespace: my-namespace\n",
      "   spec:\n",
      "     channel: stable\n",
      "     name: my-operator\n",
      "     source: my-catalog\n",
      "     sourceNamespace: my-namespace\n",
      "   EOF\n",
      "   ```\n",
      "\n",
      "This will create a Subscription object that will install and manage the operator in your cluster.\n",
      "\n",
      "1/2 done\n",
      "Q: I added a catalog source to my cluster, but I don't see any operators available for installation, did something go wrong? \n",
      "A: There could be a few reasons why you are not seeing any operators available for installation after adding a catalog source to your cluster. Here are some troubleshooting steps you can try:\n",
      "\n",
      "1. Check the catalog source: Ensure that the catalog source you added is valid and was added correctly. Verify that the catalog source is pointing to the correct repository URL and that the catalog is successfully synced with the cluster.\n",
      "\n",
      "2. Refresh the catalog: Sometimes, the catalog may not be updated automatically. Try manually refreshing the catalog by running the appropriate command or using the UI provided by your cluster management tool.\n",
      "\n",
      "3. Check the operator version: Operators are usually specific to certain versions of the cluster or the underlying platform. Make sure that the operators you are looking for are compatible with the version of your cluster.\n",
      "\n",
      "4. Verify the operator availability: Operators may not be available for installation from the catalog source you added. Double-check if the operators you are expecting are actually included in the catalog source. You can also try adding other catalog sources to increase the chances of finding the desired operators.\n",
      "\n",
      "5. Review access controls: Ensure that you have the necessary permissions and access rights to install operators in your cluster. Check with your cluster administrator or consult the documentation for your cluster management tool to understand the required permissions.\n",
      "\n",
      "If none of these troubleshooting steps resolve the issue, it's recommended to reach out to the support or community forums for your specific cluster management tool to get further assistance.\n",
      "\n",
      "2/2 done\n"
     ]
    }
   ],
   "source": [
    "generated_answers_1 = list()\n",
    "i=1\n",
    "for query in selected_questions:\n",
    "\n",
    "    answer = answer_question(query, runnable_chain)\n",
    "\n",
    "    generated_answers_1.append(answer)\n",
    "    print(f\"Q: {query}\\nA: {answer}\\n\")\n",
    "\n",
    "    ## Add delay to avoid rate limit error\n",
    "    time.sleep(1)\n",
    "    print(f\"{i}/{len(selected_questions)} done\")\n",
    "    i+=1"
   ]
  },
  {
   "cell_type": "markdown",
   "id": "55f233a2-e2b3-4e68-bb0a-0a194a0e029b",
   "metadata": {},
   "source": [
    "### Without RAG - Advanced Prompt"
   ]
  },
  {
   "cell_type": "code",
   "execution_count": 20,
   "id": "27ab7cc4-bda7-4c25-be81-965f47b4701d",
   "metadata": {
    "tags": []
   },
   "outputs": [],
   "source": [
    "template = \"\"\"You are a support engineer who is trying to generate answers for questions around the Operator Frameworks product. Your goal is to answer questions that OLM customers and users would find relevant, informative, and useful. You should be descriptive and provide links to support your answer.\n",
    "\n",
    "Here is a description of the product:\n",
    "Operator Lifecycle Manager (OLM) project is a component of the Operator Frameworkan open source toolkit to manage Kubernetes native applications, called Operators, in a streamlined and scalable way.\n",
    "\n",
    "Question: {question}\n",
    "\n",
    "Answer:\"\"\"\n",
    "\n",
    "prompt = PromptTemplate(template=template, input_variables=[\"question\"])"
   ]
  },
  {
   "cell_type": "code",
   "execution_count": 21,
   "id": "9f59424b-f79f-4540-9560-f0d00ffdf570",
   "metadata": {
    "tags": []
   },
   "outputs": [],
   "source": [
    "runnable_chain = prompt | ChatOpenAI() | StrOutputParser()"
   ]
  },
  {
   "cell_type": "code",
   "execution_count": 22,
   "id": "b62ec385-665a-4af5-a12b-cf137267370e",
   "metadata": {
    "tags": []
   },
   "outputs": [
    {
     "name": "stdout",
     "output_type": "stream",
     "text": [
      "Q: I have an operator catalog image with me, `quay.io/operator-framework/upstream-community-operators:latest`, how do I make the operators included in the catalog image, available for installation on my cluster? \n",
      "\n",
      "\n",
      "A: To make the operators included in the catalog image available for installation on your cluster, you can use the Operator Lifecycle Manager (OLM) to create a catalog source that points to the catalog image.\n",
      "\n",
      "Here are the steps to follow:\n",
      "\n",
      "1. Install OLM on your cluster by following the installation instructions provided in the OLM documentation: [OLM Installation Guide](https://olm.operatorframework.io/docs/installation/)\n",
      "\n",
      "2. Once OLM is installed, create a catalog source YAML file, for example, `my-catalog-source.yaml`, with the following content:\n",
      "\n",
      "```yaml\n",
      "apiVersion: operators.coreos.com/v1alpha1\n",
      "kind: CatalogSource\n",
      "metadata:\n",
      "  name: my-catalog\n",
      "  namespace: my-namespace\n",
      "spec:\n",
      "  displayName: My Catalog\n",
      "  sourceType: grpc\n",
      "  image: quay.io/operator-framework/upstream-community-operators:latest\n",
      "```\n",
      "\n",
      "3. Apply the catalog source YAML to your cluster using the `kubectl apply` command:\n",
      "\n",
      "```bash\n",
      "kubectl apply -f my-catalog-source.yaml\n",
      "```\n",
      "\n",
      "4. Verify that the catalog source has been created successfully:\n",
      "\n",
      "```bash\n",
      "kubectl get catalogsource -n my-namespace\n",
      "```\n",
      "\n",
      "5. Once the catalog source is created, the operators included in the catalog image will be available for installation. You can use the OLM CLI (`olm`) or the Kubernetes CLI (`kubectl`) to install the operators from the catalog.\n",
      "\n",
      "For example, to install an operator named `my-operator` from the catalog, you can use the following command:\n",
      "\n",
      "```bash\n",
      "kubectl create -f - <<EOF\n",
      "apiVersion: operators.coreos.com/v1alpha1\n",
      "kind: Subscription\n",
      "metadata:\n",
      "  name: my-operator\n",
      "  namespace: my-namespace\n",
      "spec:\n",
      "  channel: stable\n",
      "  name: my-operator\n",
      "  source: my-catalog\n",
      "  sourceNamespace: my-namespace\n",
      "EOF\n",
      "```\n",
      "\n",
      "This will create a subscription for the operator, which will trigger the installation process.\n",
      "\n",
      "For more information on using OLM and managing operators, you can refer to the OLM documentation: [OLM Documentation](https://olm.operatorframework.io/docs/)\n",
      "\n",
      "1/2 done\n",
      "Q: I added a catalog source to my cluster, but I don't see any operators available for installation, did something go wrong? \n",
      "A: If you have added a catalog source to your cluster but you do not see any operators available for installation, there are a few possible reasons for this.\n",
      "\n",
      "First, ensure that you have configured the correct catalog source. You can use the `oc get catalogsource` command to list the catalog sources in your cluster and verify that the one you added is present. Make sure that the catalog source is in a \"READY\" state, indicating that it is successfully connected and ready to provide operators.\n",
      "\n",
      "Next, check if the catalog source has any available operators. You can use the `oc get packagemanifest -n <catalog-source-namespace>` command to list the available operators from a specific catalog source namespace. If the command returns no results, it means that the catalog source does not have any operators available for installation. In this case, you may need to add a different catalog source that provides the operators you are looking for.\n",
      "\n",
      "It is also possible that there is a problem with the synchronization between the catalog source and the Operator Lifecycle Manager (OLM). You can check the OLM operator logs for any errors or issues related to syncing the catalog source. Use the `oc logs -n openshift-operator-lifecycle-manager deployments/olm-operator` command to view the OLM operator logs.\n",
      "\n",
      "If none of the above steps resolve the issue, it is recommended to refer to the Operator Framework documentation and community resources for further troubleshooting and support. The Operator Framework website (https://operatorframework.io/) provides comprehensive documentation and guides on using OLM and troubleshooting common issues. Additionally, you can join the Operator Framework community on Slack (https://operatorframework.io/community/slack/) to interact with other users and get help from experts.\n",
      "\n",
      "2/2 done\n"
     ]
    }
   ],
   "source": [
    "generated_answers_2 = list()\n",
    "i=1\n",
    "for query in selected_questions:\n",
    "\n",
    "    answer = answer_question(query, runnable_chain)\n",
    "\n",
    "    generated_answers_2.append(answer)\n",
    "    print(f\"Q: {query}\\nA: {answer}\\n\")\n",
    "\n",
    "    ## Add delay to avoid rate limit error\n",
    "    time.sleep(1)\n",
    "    print(f\"{i}/{len(selected_questions)} done\")\n",
    "    i+=1"
   ]
  },
  {
   "cell_type": "markdown",
   "id": "9aca4469-6b2e-4762-99d1-f7c521eca03d",
   "metadata": {},
   "source": [
    "### With RAG"
   ]
  },
  {
   "cell_type": "code",
   "execution_count": 23,
   "id": "341f637a-69a7-451b-96e0-dccb8b978bc9",
   "metadata": {
    "tags": []
   },
   "outputs": [],
   "source": [
    "template = \"\"\"\n",
    "You are a support engineer who is trying to generate answers for questions around the Operator Frameworks product. Your goal is to answer questions that OLM customers and users would find relevant, informative, and useful. You should be descriptive and provide links to support your answer.\n",
    "\n",
    "Here is a description of the product:\n",
    "Operator Lifecycle Manager (OLM) project is a component of the Operator Framework open source toolkit to manage Kubernetes native applications, called Operators, in a streamlined and scalable way.\n",
    "\n",
    "Question: {question}\n",
    "\n",
    "Here are a few input and output pairs examples to guide the model:\n",
    "\n",
    "Input: \"What is OLM?\"\n",
    "Output: \"Operator Lifecycle Manager (OLM) project is a component of the Operator Frameworkan open source toolkit to manage Kubernetes native applications, called Operators, in a streamlined and scalable way.\"\n",
    "\n",
    "Input: \"What are OLM features?\"\n",
    "Output: \"OLM provides rich update mechanisms to keep Kubernetes native applications up to date automatically. With OLMs packaging format Operators can express dependencies on the platform and on other Operators.\"\n",
    "\n",
    "If you don't know the answer, please respond with: \"I'm sorry, I don't have enough information to generate that content.\"\n",
    "\n",
    "Please help this OLM customer to find the answer to this {question} given the relevant content around the question {context}:\n",
    "\"\"\"\n",
    "\n",
    "prompt = PromptTemplate(\n",
    "    input_variables=[\"question\", \"context\"],\n",
    "    template=template,\n",
    ")"
   ]
  },
  {
   "cell_type": "code",
   "execution_count": 24,
   "id": "e782d0e9-25b1-4f68-a53b-6570c0399fd5",
   "metadata": {
    "tags": []
   },
   "outputs": [],
   "source": [
    "def answer_question(query, index, chain):\n",
    "    \"\"\"\n",
    "    Takes in query, index to search from, and llm chain to generate answer\n",
    "    \"\"\"\n",
    "    ## Retrieve docs\n",
    "    docs = index.similarity_search(query)\n",
    "    print(docs)\n",
    "    print(len(docs))\n",
    "    ## Generate answer\n",
    "    answer = chain.invoke({\"question\": query, \"context\": docs})\n",
    "    return answer"
   ]
  },
  {
   "cell_type": "code",
   "execution_count": 26,
   "id": "38b79515-9f48-4673-8072-68eef07e8af7",
   "metadata": {
    "tags": []
   },
   "outputs": [
    {
     "name": "stdout",
     "output_type": "stream",
     "text": [
      "[Document(page_content='There are many possible ways to build a catalog, but an extremely simple approach would be to:\\n\\n- Maintain a single configuration file containing image references for each operator in the catalog\\n   ```yaml\\n   name: community-operators\\n   repo: quay.io/community-operators/catalog\\n   tag: latest\\n   references:\\n   - name: etcd-operator\\n     image: quay.io/etcd-operator/catalog@sha256:5891b5b522d5df086d0ff0b110fbd9d21bb4fc7163af34d08286a2e846f6be03\\n   - name: prometheus-operator\\n     image: quay.io/prometheus-operator/catalog@sha256:e258d248fda94c63753607f7c4494ee0fcbe92f1a76bfdac795c9d84101eb317', metadata={'source': '../data/external/olm/docs/Reference/file-based-catalogs.md'}), Document(page_content='As a cluster administrator, you can install an Operator from the OperatorHub using the OpenShift Container Platform web console or the CLI. You can then subscribe the Operator to one or more namespaces to make it available for developers on your cluster.\\n\\nExample: Install the latest version of an Operator\\n\\nBefore installing an operator into a namespace, you will need to create an OperatorGroup that targets the namespaces your operator is planning to watch, to generate the required RBACs for your operator in those namespaces.\\n\\nIf you want to install an operator named `my-operator` in the namespace `foo` that is cluster scoped (i.e installModes:AllNamespaces), from a catalog named `my-catalog` that is in the namespace `olm`.\\n\\nCreate a global OperatorGroup (which selects all namespaces):', metadata={'source': '../data/external/olm/docs/Concepts/operators-on-cluster.md'}), Document(page_content=\"```\\n\\n### I'm not sure if a specific version of an operator is available in a CatalogSource\\n\\nFirst verify that the `CatalogSource` contains the operator that you want to install:\\n\\n```bash\\n$ kubectl -n my-namespace get packagemanifests\\nNAME                               CATALOG             AGE\\n...\\nportworx                           My Catalog Source   14m\\npostgres-operator                  My Catalog Source   14m\\npostgresql                         My Catalog Source   14m\\npostgresql-operator-dev4devs-com   My Catalog Source   14m\\nprometheus                         My Catalog Source   14m\\n...\", metadata={'source': '../data/external/olm/docs/Troubleshooting/catalogsource.md'}), Document(page_content='```\\n\\n> Note: This document uses a global OperatorGroup in the examples to install operators. To learn more about installing namespaced scoped operators, check out [operator scoping with OperatorGroups](/docs/advanced-tasks/operator-scoping-with-operatorgroups).\\n\\n## Install your operator\\n\\nTo install an Operator, simply create a `Subscription` for your operator. This represents the intent to subscribe to a stream of available versions of this Operator from a `CatalogSource`:\\n\\n```yaml\\napiVersion: operators.coreos.com/v1alpha1\\nkind: Subscription\\nmetadata:\\n  name: <name-of-your-subscription>\\n  namespace: <namespace-you-want-your-operator-installed-in>\\nspec:\\n  channel: <channel-you-want-to-subscribe-to>\\n  name: <name-of-your-operator>\\n  source: <name-of-catalog-operator-is-part-of>\\n  sourceNamespace: <namespace-that-has-catalog>\\n  installPlanApproval: <Automatic/Manual>', metadata={'source': '../data/external/olm/docs/Tasks/install-operator-with-olm.md'})]\n",
      "4\n",
      "Q: I have an operator catalog image with me, `quay.io/operator-framework/upstream-community-operators:latest`, how do I make the operators included in the catalog image, available for installation on my cluster? \n",
      "\n",
      "\n",
      "A: To make the operators included in the catalog image available for installation on your cluster, you need to follow these steps:\n",
      "\n",
      "1. Ensure that you have Operator Lifecycle Manager (OLM) installed on your cluster. OLM is responsible for managing the lifecycle of operators and their installation. You can follow the installation instructions provided in the OLM documentation: [OLM Installation](https://github.com/operator-framework/operator-lifecycle-manager/blob/main/doc/install/install.md)\n",
      "\n",
      "2. Once OLM is installed, you can use the `olm` command-line tool to add the catalog image to your cluster. The `olm` tool allows you to manage operator catalogs and subscriptions. You can find detailed information about using the `olm` tool in the OLM documentation: [OLM CLI](https://github.com/operator-framework/operator-lifecycle-manager/blob/main/doc/design/architecture.md#olm-cli)\n",
      "\n",
      "3. To add the catalog image, use the following command:\n",
      "\n",
      "   ```bash\n",
      "   $ olm catalog add --image=quay.io/operator-framework/upstream-community-operators:latest\n",
      "   ```\n",
      "\n",
      "   This command will pull the catalog image and add it to your cluster, making the operators in the catalog available for installation.\n",
      "\n",
      "4. After adding the catalog image, you can search for available operators using the `olm` command-line tool. For example, to search for all available operators in the catalog, use the following command:\n",
      "\n",
      "   ```bash\n",
      "   $ olm catalog list\n",
      "   ```\n",
      "\n",
      "   This will display a list of operators available for installation from the added catalog.\n",
      "\n",
      "5. To install an operator from the catalog, you can use the `olm` command-line tool to create a subscription. A subscription represents your intent to install and manage a specific operator. You can find detailed information about creating subscriptions in the OLM documentation: [Creating a Subscription](https://github.com/operator-framework/operator-lifecycle-manager/blob/main/doc/design/architecture.md#creating-a-subscription)\n",
      "\n",
      "   ```bash\n",
      "   $ olm subscription create <subscription-name> --catalog=<catalog-name> --channel=<channel-name> --install-mode=<install-mode>\n",
      "   ```\n",
      "\n",
      "   Replace `<subscription-name>`, `<catalog-name>`, `<channel-name>`, and `<install-mode>` with the appropriate values for your operator.\n",
      "\n",
      "By following these steps, you should be able to make the operators included in the catalog image available for installation on your cluster using Operator Lifecycle Manager (OLM).\n",
      "\n",
      "1/2 done\n",
      "[Document(page_content='On cluster, OLM reads `CatalogSource`s to know what operators are available for installation.\\n\\n```yaml\\napiVersion: \"operators.coreos.com/v1alpha1\"\\nkind: \"CatalogSource\"\\nmetadata:\\n  name: \"my-operators\"\\n  namespace: \"operators\"\\nspec:\\n  sourceType: grpc\\n  image: example.com/my-namespace/cool-catalog:v1\\n  displayName: \"My Operators\"\\n  priority: 100', metadata={'source': '../data/external/olm/docs/Concepts/olm-architecture/dependency-resolution/_index.md'}), Document(page_content='As a cluster administrator, you can install an Operator from the OperatorHub using the OpenShift Container Platform web console or the CLI. You can then subscribe the Operator to one or more namespaces to make it available for developers on your cluster.\\n\\nExample: Install the latest version of an Operator\\n\\nBefore installing an operator into a namespace, you will need to create an OperatorGroup that targets the namespaces your operator is planning to watch, to generate the required RBACs for your operator in those namespaces.\\n\\nIf you want to install an operator named `my-operator` in the namespace `foo` that is cluster scoped (i.e installModes:AllNamespaces), from a catalog named `my-catalog` that is in the namespace `olm`.\\n\\nCreate a global OperatorGroup (which selects all namespaces):', metadata={'source': '../data/external/olm/docs/Concepts/operators-on-cluster.md'}), Document(page_content='```\\n\\nNow the catalog image is available for clusters to use and reference with `CatalogSources` on their cluster.\\n\\n[catalogsource-crd]: /docs/concepts/crds/catalogsource\\n[file-based-catalog-spec]: /docs/reference/file-based-catalogs\\n[templates-doc]: /docs/reference/catalog-templates\\n[semver-template-doc]: /docs/reference/catalog-templates#semver-template\\n[upgrade-graph-doc]: /docs/concepts/olm-architecture/operator-catalog/creating-an-update-graph\\n[v0.18.z-version]:  https://v0-18-z.olm.operatorframework.io/docs/tasks/make-index-available-on-cluster/', metadata={'source': '../data/external/olm/docs/Tasks/creating-a-catalog.md'}), Document(page_content='olm-operators                                   olm          OperatorGroup               Installed\\npackageserver                                   olm          ClusterServiceVersion       Installed\\noperatorhubio-catalog                           olm          CatalogSource               Installed', metadata={'source': '../data/external/olm/docs/getting-started/_index.md'})]\n",
      "4\n",
      "Q: I added a catalog source to my cluster, but I don't see any operators available for installation, did something go wrong? \n",
      "A: If you added a catalog source to your cluster but do not see any operators available for installation, there could be a few reasons for this. \n",
      "\n",
      "First, make sure that the catalog source you added is properly configured and reachable by the cluster. You can check the status of the catalog source using the following command:\n",
      "\n",
      "```\n",
      "kubectl get catalogsource -n <namespace>\n",
      "```\n",
      "\n",
      "If the status is not \"Healthy\", there might be an issue with the catalog source itself or with the network connectivity to it. In this case, you can check the logs of the catalog source pod for any error messages that could indicate the problem.\n",
      "\n",
      "Secondly, ensure that the operators you are looking for are actually provided by the catalog source you added. You can list the available operators from the catalog source using the following command:\n",
      "\n",
      "```\n",
      "kubectl get packagemanifest -n <namespace> -l catalog=<catalog-source-name>\n",
      "```\n",
      "\n",
      "If you do not see the expected operators listed, it could mean that the catalog source does not include them. You might need to add a different catalog source or contact the provider of the catalog source for assistance.\n",
      "\n",
      "Lastly, it is also possible that the operators you are looking for are not compatible with the Kubernetes version or the platform you are using. Make sure to check the documentation or release notes of the operators to ensure compatibility.\n",
      "\n",
      "For more information and troubleshooting steps, you can refer to the official Operator Lifecycle Manager documentation: [Operator Lifecycle Manager - Troubleshooting](https://olm.operatorframework.io/docs/troubleshooting/)\n",
      "\n",
      "If you still encounter issues, it might be helpful to seek assistance from the Operator Framework community through their official communication channels, such as their GitHub repository or mailing list.\n",
      "\n",
      "2/2 done\n"
     ]
    }
   ],
   "source": [
    "generated_answers_3 = list()\n",
    "i=1\n",
    "for query in selected_questions:\n",
    "    answer = answer_question(query, docsearch, runnable_chain)\n",
    "\n",
    "    generated_answers_3.append(answer)\n",
    "    print(f\"Q: {query}\\nA: {answer}\\n\")\n",
    "\n",
    "    ## Add delay to avoid rate limit error\n",
    "    time.sleep(1)\n",
    "    print(f\"{i}/{len(selected_questions)} done\")\n",
    "    i+=1"
   ]
  },
  {
   "cell_type": "markdown",
   "id": "b237373e-4cf6-46d3-b4a6-e579ae69be5d",
   "metadata": {
    "id": "28dccd33-8480-4f86-a650-7adc8ebbe859"
   },
   "source": [
    "# Evaluate the generated answers using a metric"
   ]
  },
  {
   "cell_type": "code",
   "execution_count": 28,
   "id": "58a8a7a3-91f8-442c-80d4-871eb9539ba4",
   "metadata": {
    "id": "a13fe8f6-aa4a-4f90-935e-a5ac6adf0d53",
    "tags": []
   },
   "outputs": [
    {
     "data": {
      "text/plain": [
       "['You can make the operators available for installation on your cluster by creating a `CatalogSource` CR: \\n\\n```\\napiVersion: operators.coreos.com/v1alpha1\\nkind: CatalogSource\\nmetadata:\\n  name: my-catalog\\n  namespace: olm\\nspec:\\n  sourceType: grpc\\n  image: quay.io/operator-framework/upstream-community-operators:latest\\n  displayName: Community Operators\\n  publisher: OperatorHub.io\\n```',\n",
       " \"Once you add a catalog source to your cluster, you can check the status of the catalog source by inspecting the CR's status.\\n\\nIf you have the `yq` tool available locally, you can use `yq`:\\n\\n```\\n$ kubectl get CatalogSource  <catalog-source-name> -n <catalog-source-namespace> -o yaml | yq e '.status' -\\n```\\n\\nIf you don't have the `yq` tool available, you can use `grep` instead \\n\\n```\\n$ kubectl get CatalogSource  <catalog-source-name> -n <catalog-source-namespace> -o yaml | grep status -A 4\\n```\\n\\nThe status should indicate what exactly has gone wrong in your attempt to add the catalog source to your cluster. \",\n",
       " 'You can see what operators are available for installation on your cluster by querying the PackageManifest API: \\n\\n```\\n$ kubectl get packagemanifests -n <namespace>\\n```',\n",
       " 'You can see what operators are available for installation on your cluster by querying the PackageManifest API: \\n\\n```\\n$ kubectl get packagemanifests -n <namespace>\\n```\\n\\nOnce you have selected which operator you want to install, you need to first create an OperatorGroup for the namespace \\nyou want your operator installed in: \\n\\n```\\napiVersion: operators.coreos.com/v1alpha2\\nkind: OperatorGroup\\nmetadata:\\n  name: my-group\\n  namespace: my-namespace\\n```\\nAn OperatorGroup selects a set of target namespaces in which to generate required RBAC access for its member operators.\\nThe set of target namespaces is provided via a comma-delimited string stored in the olm.targetNamespaces annotation. \\nThis annotation is applied to member operator’s ClusterServiceVersion (CSV) instances and is projected into their deployments. \\nIt is accessible to operator containers using The Downward API\\nOnce you have created your OpeatorGroup, you can then create a Subscription for the operator you want to install: \\n\\n```$ \\napiVersion: operators.coreos.com/v1alpha1\\nkind: Subscription\\nmetadata:\\n  name: <name-of-your-subscription>\\n  namespace: <namespace-you-want-your-operator-installed-in>\\nspec:\\n  channel: <channel-you-want-to-subscribe-to>\\n  name: <name-of-your-operator>\\n  source: <name-of-catalog-operator-is-part-of>\\n  sourceNamespace: <namespace-that-has-catalog>\\n  installPlanApproval: <Automatic/Manual>\\n```\\n\\nThe Subscription object creates an InstallPlan, \\nwhich is either automatically approved (if sub.spec.installPlanApproval: Automatic), \\nor needs to be approved (if sub.spec.installPlanApproval: Manual), following which the operator is installed in the \\nnamespace you want.\\n\\nIf the InstallPlan is set to manual, you need to approve the InstallPlan, otherwise it is approved automatically. To aprove an \\nInstallPlan foo created in the bar namespace, use the following command: \\n\\n```\\n$ kubectl edit ip foo -n bar\\n```\\n\\nand then change the spec.approved from false to true. Be sure the check the status of the Subscription, to ensure that the \\nstatus is reporting `Succeeded`. \\n\\n\\n\\n\\n\\n',\n",
       " 'You\\'re going to want to avoid a channel called stable (what happens when you need to release a v2?). It would be better to call it stable-v1.\\nOther than that, what you\\'re describing sounds a lot like the file-based catalog \"semver template\" https://olm.operatorframework.io/docs/reference/catalog-templates/#semver-template',\n",
       " 'Ah, yeah OLM doesn’t expect users to add a service or webhook definition to the bundle, all you need to do is add the \\nconversion webhook to the CSV: https://olm.operatorframework.io/docs/advanced-tasks/adding-admission-and-conversion-webhooks/#docs-etcd\\n',\n",
       " \"OLM itself doesn't do anything special with these labels, they're just for the console\\n\",\n",
       " 'the InstallPlan API is an internal facing API that is managed by OLM — it’s not recommended to remove it manually in the case of a failed install.\\nThe most direct route is to do a clean install — remove the related subscription and CSV (see https://olm.operatorframework.io/docs/tasks/uninstall-operator/ for more info) and then recreate the subscription. That would trigger a new InstallPlan to eventually be created.\\n\\n',\n",
       " 'I don’t believe that there is a way to specify a specific channel as a dependency, \\nbut OLM does give preference to the default channel of the dependency.\\n\\nAn operator package in a catalog is a collection of update channels that a user can subscribe to in a cluster. Channels may be used to provide a particular stream of updates for a minor release (i.e. 1.2, 1.3) or a simple release frequency (stable, fast).\\n\\nIt is likely that a dependency may be satisfied by operators in the same package, but different channels. For example, version 1.2 of an operator may exist in both stable and fast.\\n\\nEach package has a default channel, which is always preferred to non-default channels. If no option in the default channel can satisfy a dependency, options are considered from the remaining channels in lexicographic order of the channel name.\\n\\nA future release of OLM will allow customizing the sort preference for channels.']"
      ]
     },
     "execution_count": 28,
     "metadata": {},
     "output_type": "execute_result"
    }
   ],
   "source": [
    "real_answers"
   ]
  },
  {
   "cell_type": "code",
   "execution_count": 31,
   "id": "89f41cbe-11c6-4ad1-9d73-3b0f7fe7f623",
   "metadata": {
    "id": "489596cf-f49f-4b67-9ed8-f80b814f591c",
    "tags": []
   },
   "outputs": [],
   "source": [
    "def calc_bleu(reference, candidate):\n",
    "\n",
    "    for i in range(len(reference)):\n",
    "        print('BLEU score -> {}'.format(sentence_bleu(reference[i].split(), candidate[i].split(), smoothing_function=SmoothingFunction().method4)))"
   ]
  },
  {
   "cell_type": "code",
   "execution_count": 32,
   "id": "b2031b5d-f24f-4b8e-beac-9b1677fbb1b9",
   "metadata": {
    "id": "02407e07-8299-444a-b04b-c8cea04e5e40",
    "tags": []
   },
   "outputs": [
    {
     "name": "stdout",
     "output_type": "stream",
     "text": [
      "BLEU score -> 0.002764112903140091\n",
      "BLEU score -> 0.0017733527914034046\n"
     ]
    }
   ],
   "source": [
    "calc_bleu(real_answers[0:2], generated_answers_1)"
   ]
  },
  {
   "cell_type": "code",
   "execution_count": 33,
   "id": "03e8be2f-1e16-4cf7-93a5-b69d40118194",
   "metadata": {
    "id": "a74e1c96-a548-4576-ad64-a0a8122355ee",
    "tags": []
   },
   "outputs": [
    {
     "name": "stdout",
     "output_type": "stream",
     "text": [
      "BLEU score -> 0.0021981422129838907\n",
      "BLEU score -> 0.0019948205939890667\n"
     ]
    }
   ],
   "source": [
    "calc_bleu(real_answers[0:2], generated_answers_2)"
   ]
  },
  {
   "cell_type": "code",
   "execution_count": 34,
   "id": "26814213-8542-4936-8982-ca7d6fe5b379",
   "metadata": {
    "id": "065a24b0-8b77-4303-8124-f16bd865ba32",
    "tags": []
   },
   "outputs": [
    {
     "name": "stdout",
     "output_type": "stream",
     "text": [
      "BLEU score -> 0.001881855501244099\n",
      "BLEU score -> 0.0019698557937030976\n"
     ]
    }
   ],
   "source": [
    "calc_bleu(real_answers[0:2], generated_answers_3)"
   ]
  },
  {
   "cell_type": "markdown",
   "id": "f0cefdb1-cc3a-409c-8a81-0a4d4e1133a2",
   "metadata": {
    "id": "1a29d142-3df9-48ee-9df4-18ba28577697"
   },
   "source": [
    "# Post processing or Sanity Checks"
   ]
  },
  {
   "cell_type": "code",
   "execution_count": 36,
   "id": "2ee4debb-6125-46b1-a623-df43a80f5700",
   "metadata": {
    "id": "c8624f97-e193-44e2-adc7-d9e459d64fba"
   },
   "outputs": [
    {
     "name": "stdout",
     "output_type": "stream",
     "text": [
      "generated_answers_1 returned\n",
      "generated_answers_2 returned\n",
      "The link https://olm.operatorframework.io/docs/installation/ returned a status code of 404.\n",
      "The link https://olm.operatorframework.io/docs/ is valid.\n",
      "The link https://operatorframework.io/ is valid.\n",
      "The link https://operatorframework.io/community/slack/ returned a status code of 404.\n",
      "generated_answers_3 returned\n",
      "The link https://olm.operatorframework.io/docs/troubleshooting/ is valid.\n"
     ]
    }
   ],
   "source": [
    "def check_links(text):\n",
    "    urls = re.findall(r'\\((https?:\\/\\/[^\\s\\/$.?#].[^\\s()]*\\/[^\\s\\/$.?#]*(?:\\.html)?)\\)', text)\n",
    "    for url in urls:\n",
    "        try:\n",
    "            response = requests.get(url)\n",
    "            if response.status_code == 200:\n",
    "                print(f\"The link {url} is valid.\")\n",
    "            else:\n",
    "                print(f\"The link {url} returned a status code of {response.status_code}.\")\n",
    "        except requests.exceptions.RequestException as e:\n",
    "            print(f\"The link {url} could not be reached. Error: {e}\")\n",
    "\n",
    "print(\"generated_answers_1 returned\")\n",
    "for text in generated_answers_1:\n",
    "    check_links(text)\n",
    "\n",
    "print(\"generated_answers_2 returned\")\n",
    "for text in generated_answers_2:\n",
    "    check_links(text)\n",
    "\n",
    "print(\"generated_answers_3 returned\")\n",
    "for text in generated_answers_3:\n",
    "    check_links(text)"
   ]
  },
  {
   "cell_type": "code",
   "execution_count": null,
   "id": "9d097a0b-ee23-43d9-9126-1002d0ba8737",
   "metadata": {},
   "outputs": [],
   "source": []
  },
  {
   "cell_type": "code",
   "execution_count": null,
   "id": "e3c61c01-59d0-49f8-b63d-ac92f0f3aa3f",
   "metadata": {},
   "outputs": [],
   "source": [
    "\n"
   ]
  },
  {
   "cell_type": "code",
   "execution_count": null,
   "id": "6bfde4c8-66cd-4016-ab45-c02dbe2ec2b4",
   "metadata": {},
   "outputs": [],
   "source": []
  },
  {
   "cell_type": "code",
   "execution_count": null,
   "id": "45145171-297f-4443-a872-a912a8b0ee4a",
   "metadata": {},
   "outputs": [],
   "source": []
  },
  {
   "cell_type": "code",
   "execution_count": null,
   "id": "c1918840-3a3e-4ea6-b2d4-cdbb6c4f41fb",
   "metadata": {},
   "outputs": [],
   "source": []
  },
  {
   "cell_type": "markdown",
   "id": "bcc2c389-ec53-4417-bb41-621afeb9a9f1",
   "metadata": {
    "tags": []
   },
   "source": [
    "# Appendix"
   ]
  },
  {
   "cell_type": "code",
   "execution_count": 109,
   "id": "3eb197bd-5ca5-4f9b-9a54-e812344ddfe4",
   "metadata": {
    "tags": []
   },
   "outputs": [],
   "source": [
    "# __import__('pysqlite3')\n",
    "# import sys\n",
    "# sys.modules['sqlite3'] = sys.modules.pop('pysqlite3')\n",
    "# from typing import Optional\n",
    "\n",
    "# import chromadb\n",
    "# from chromadb.api.types import Documents, EmbeddingFunction, Embeddings\n",
    "# from dotenv import load_dotenv\n",
    "# # from pydantic_settings import BaseSettings\n",
    "\n",
    "# from genai import Client, Credentials\n",
    "# from genai.schema import TextEmbeddingParameters"
   ]
  },
  {
   "cell_type": "markdown",
   "id": "3ed950b1-cfb5-46ed-98fa-984081344254",
   "metadata": {},
   "source": [
    "### Use IBM BAM for creating vector store"
   ]
  },
  {
   "cell_type": "code",
   "execution_count": null,
   "id": "94b34260-cf81-4b74-92b6-02bc11c5f197",
   "metadata": {
    "tags": []
   },
   "outputs": [],
   "source": [
    "# make sure you have a .env file in the root folder with genaikey and genaiapi\n",
    "load_dotenv()\n",
    "api_key = os.getenv(\"GENAI_KEY\", None)\n",
    "api_endpoint = os.getenv(\"GENAI_API\", None)"
   ]
  },
  {
   "cell_type": "code",
   "execution_count": null,
   "id": "555178f7-0ebd-49ef-b7c4-cb8b1049dec4",
   "metadata": {
    "tags": []
   },
   "outputs": [],
   "source": [
    "loader = DirectoryLoader('../data/external/olm/docs/', glob=\"**/*.md\", loader_cls=TextLoader)\n",
    "documents = loader.load()"
   ]
  },
  {
   "cell_type": "code",
   "execution_count": null,
   "id": "499fdeef-9a2f-4232-b43c-b23d82a1bcc3",
   "metadata": {
    "tags": []
   },
   "outputs": [],
   "source": [
    "# documents"
   ]
  },
  {
   "cell_type": "code",
   "execution_count": null,
   "id": "686fea83-abdb-4571-bc6f-ba0c96cc3702",
   "metadata": {
    "tags": []
   },
   "outputs": [
    {
     "data": {
      "text/plain": [
       "True"
      ]
     },
     "execution_count": 8,
     "metadata": {},
     "output_type": "execute_result"
    }
   ],
   "source": [
    "## Verification\n",
    "'../data/external/olm/docs/getting-started/_index.md' in [i.metadata['source'] for i in documents]"
   ]
  },
  {
   "cell_type": "code",
   "execution_count": null,
   "id": "01d4516c-b7e8-44d2-9bcf-c24e1b6fc102",
   "metadata": {
    "tags": []
   },
   "outputs": [],
   "source": [
    "## Split the documents into chunks. Is there a better way than hardcoding size as 1000?\n",
    "text_splitter = MarkdownTextSplitter(chunk_size=1000, chunk_overlap=0)\n",
    "texts = text_splitter.split_documents(documents)"
   ]
  },
  {
   "cell_type": "code",
   "execution_count": null,
   "id": "1fd6fd80-726b-4c1d-b2c0-35be41dfdd1d",
   "metadata": {},
   "outputs": [
    {
     "data": {
      "text/plain": [
       "424"
      ]
     },
     "execution_count": 10,
     "metadata": {},
     "output_type": "execute_result"
    }
   ],
   "source": [
    "len(texts)"
   ]
  },
  {
   "cell_type": "code",
   "execution_count": null,
   "id": "475457b6-daa8-41cb-8c2c-316788c5daba",
   "metadata": {},
   "outputs": [
    {
     "data": {
      "text/plain": [
       "'---\\ntitle: Operator Lifecycle Manager(OLM)\\nlinkTitle: \"Documentation\"\\nmenu:\\n  main:\\n    weight: 10\\n---\\n\\n[OLM](https://github.com/operator-framework/operator-lifecycle-manager) is a component of the [Operator Framework](https://github.com/operator-framework), an open source toolkit to manage Kubernetes native applications, called Operators, in an effective, automated, and scalable way. OLM extends Kubernetes to provide a declarative way to install, manage, and upgrade Operators and their dependencies in a cluster.\\n\\nRead more in the [introduction blog post](https://operatorhub.io/what-is-an-operator).\\n\\n## Features provided by OLM\\n\\n### Over-the-Air Updates and Catalogs'"
      ]
     },
     "execution_count": 11,
     "metadata": {},
     "output_type": "execute_result"
    }
   ],
   "source": [
    "texts[0].page_content"
   ]
  },
  {
   "cell_type": "code",
   "execution_count": 12,
   "id": "218679bb-4cff-4d3b-8b9f-fea731245d67",
   "metadata": {
    "tags": []
   },
   "outputs": [],
   "source": [
    "# make sure you have a .env file under genai root with\n",
    "GENAI_KEY=api_key\n",
    "GENAI_API=api_endpoint"
   ]
  },
  {
   "cell_type": "code",
   "execution_count": 13,
   "id": "d379debc-26e0-40c7-9358-5752a70ab883",
   "metadata": {
    "tags": []
   },
   "outputs": [],
   "source": [
    "class ChromaEmbeddingFunction(EmbeddingFunction):\n",
    "    def __init__(self, *, model_id: str, client: Client, parameters: Optional[TextEmbeddingParameters] = None):\n",
    "        self._model_id = model_id\n",
    "        self._parameters = parameters\n",
    "        self._client = client\n",
    "\n",
    "    def __call__(self, inputs: Documents) -> Embeddings:\n",
    "        embeddings: Embeddings = []\n",
    "        for response in self._client.text.embedding.create(\n",
    "            model_id=self._model_id, inputs=inputs, parameters=self._parameters\n",
    "        ):\n",
    "            embeddings.extend(response.results)\n",
    "\n",
    "        return embeddings"
   ]
  },
  {
   "cell_type": "code",
   "execution_count": 14,
   "id": "2b25b814-efff-44a9-a01f-52f03a9ce87c",
   "metadata": {
    "tags": []
   },
   "outputs": [],
   "source": [
    "id_doc = {\"ids\": [], \"documents\": []}\n",
    "\n",
    "for idx, text in enumerate(texts):\n",
    "    id_doc[\"ids\"].append(str(idx + 1))  # Index starts from 1\n",
    "    id_doc[\"documents\"].append(text.page_content)"
   ]
  },
  {
   "cell_type": "code",
   "execution_count": 15,
   "id": "15b3c3ca-0261-4fc5-a678-bcd90db524af",
   "metadata": {
    "tags": []
   },
   "outputs": [],
   "source": [
    "credentials = Credentials.from_env()\n",
    "persistent_client = chromadb.PersistentClient()\n",
    "collection = persistent_client.get_or_create_collection(\"collection_olm\")\n",
    "collection.add(ids=id_doc['ids'], documents=id_doc['documents'])\n",
    "\n",
    "embedding_fn = ChromaEmbeddingFunction(model_id=\"sentence-transformers/all-minilm-l6-v2\", client=persistent_client)"
   ]
  },
  {
   "cell_type": "code",
   "execution_count": 35,
   "id": "603fe470-5585-44a1-9a93-1fe939bae64d",
   "metadata": {
    "tags": []
   },
   "outputs": [],
   "source": [
    "langchain_chroma = Chroma(\n",
    "    client=persistent_client,\n",
    "    collection_name=\"collection_olm\",\n",
    "    embedding_function=embedding_fn,\n",
    ")"
   ]
  },
  {
   "cell_type": "code",
   "execution_count": 40,
   "id": "ee038421-f516-4166-8f9d-e9c1c42177e7",
   "metadata": {
    "tags": []
   },
   "outputs": [
    {
     "name": "stdout",
     "output_type": "stream",
     "text": [
      "There are 424 in the collection\n"
     ]
    }
   ],
   "source": [
    "print(\"There are\", langchain_chroma._collection.count(), \"in the collection\")"
   ]
  }
 ],
 "metadata": {
  "kernelspec": {
   "display_name": "Python 3.9",
   "language": "python",
   "name": "python3"
  },
  "language_info": {
   "codemirror_mode": {
    "name": "ipython",
    "version": 3
   },
   "file_extension": ".py",
   "mimetype": "text/x-python",
   "name": "python",
   "nbconvert_exporter": "python",
   "pygments_lexer": "ipython3",
   "version": "3.9.16"
  }
 },
 "nbformat": 4,
 "nbformat_minor": 5
}
