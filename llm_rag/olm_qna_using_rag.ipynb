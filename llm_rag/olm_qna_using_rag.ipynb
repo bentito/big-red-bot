{
 "cells": [
  {
   "cell_type": "markdown",
   "id": "46992c86-b56c-446c-a86e-3b8ba9b9f383",
   "metadata": {},
   "source": [
    "# OLM Docs FAQ/Slack Bot\n"
   ]
  },
  {
   "cell_type": "markdown",
   "id": "cd41c9a6",
   "metadata": {},
   "source": [
    "## Import dependencies and credentials"
   ]
  },
  {
   "cell_type": "code",
   "execution_count": 1,
   "id": "8ba2bc3d-f79f-45d7-beb9-727713ff0cc8",
   "metadata": {
    "tags": []
   },
   "outputs": [],
   "source": [
    "# pip install langchain langchain-openai python-dotenv nltk openai chromadb tiktoken"
   ]
  },
  {
   "cell_type": "code",
   "execution_count": 67,
   "id": "c0cc37b2-3872-4357-90ff-432e665d2dc0",
   "metadata": {
    "tags": []
   },
   "outputs": [],
   "source": [
    "import uuid\n",
    "from chromadb.api.types import Documents, EmbeddingFunction, Embeddings\n",
    "\n",
    "import re\n",
    "import requests\n",
    "\n",
    "from chromadb import HttpClient\n",
    "import pandas as pd\n",
    "from langchain_openai import OpenAIEmbeddings\n",
    "from langchain.text_splitter import MarkdownTextSplitter\n",
    "from langchain.vectorstores import Chroma\n",
    "from langchain.prompts import PromptTemplate\n",
    "from langchain_core.prompts import ChatPromptTemplate\n",
    "from langchain.llms import OpenAI\n",
    "from langchain.document_loaders import TextLoader, DirectoryLoader\n",
    "from langchain.embeddings.sentence_transformer import SentenceTransformerEmbeddings\n",
    "from langchain_openai import ChatOpenAI\n",
    "from sentence_transformers import SentenceTransformer\n",
    "\n",
    "from nltk.translate.bleu_score import sentence_bleu\n",
    "from nltk.translate.bleu_score import SmoothingFunction\n",
    "\n",
    "import time\n",
    "import chromadb\n",
    "import chromadb.utils.embedding_functions as embedding_functions\n",
    "from dotenv import load_dotenv, find_dotenv"
   ]
  },
  {
   "cell_type": "markdown",
   "id": "6c1f7ab0-44f1-4e6e-b97f-92419f0946bb",
   "metadata": {
    "id": "1465110f-d3a0-442e-9d81-2ca1b2b84bb1"
   },
   "source": [
    "### Step 1:\n",
    "\n",
    "Only if using OpenAI, in the `credentials.env` file in the folder, change the XXX value for the `OPENAI_API_KEY` to your actual OPENAI API KEY"
   ]
  },
  {
   "cell_type": "code",
   "execution_count": 3,
   "id": "03ed7f07-9c8d-48e8-8b64-365089259fdf",
   "metadata": {
    "id": "756b5eb5-05dc-4343-a60a-815eccaa2826",
    "tags": []
   },
   "outputs": [],
   "source": [
    "# load_dotenv(find_dotenv(\"credentials.env\"), override=True)"
   ]
  },
  {
   "cell_type": "markdown",
   "id": "f1cdfa11-78af-47f2-8cb9-41576a2b076b",
   "metadata": {
    "id": "a2729dec-ffb5-46bb-b8db-8c04f55da7b3"
   },
   "source": [
    "## Read the Dataset and create Vector Store"
   ]
  },
  {
   "cell_type": "code",
   "execution_count": 5,
   "id": "e4cb93f1-59d7-4d33-adf3-df7a3c710a7f",
   "metadata": {
    "tags": []
   },
   "outputs": [],
   "source": [
    "loader = DirectoryLoader('../data/external/olm/docs/', glob=\"**/*.md\", loader_cls=TextLoader)\n",
    "documents = loader.load()"
   ]
  },
  {
   "cell_type": "code",
   "execution_count": 6,
   "id": "0ed36287-4a36-47e3-9f0c-70530e601aab",
   "metadata": {
    "tags": []
   },
   "outputs": [
    {
     "data": {
      "text/plain": [
       "True"
      ]
     },
     "execution_count": 6,
     "metadata": {},
     "output_type": "execute_result"
    }
   ],
   "source": [
    "## Verification\n",
    "'../data/external/olm/docs/slack_samples.md' in [i.metadata['source'] for i in documents]"
   ]
  },
  {
   "cell_type": "code",
   "execution_count": 7,
   "id": "b9293483-6482-4f87-9fc2-b1d9cf44cda6",
   "metadata": {
    "tags": []
   },
   "outputs": [],
   "source": [
    "## Split the documents into chunks. Is there a better way than hardcoding size as 1000?\n",
    "text_splitter = MarkdownTextSplitter(chunk_size=1000, chunk_overlap=0)\n",
    "texts = text_splitter.split_documents(documents)"
   ]
  },
  {
   "cell_type": "code",
   "execution_count": 8,
   "id": "082b2306-3385-4a0f-9e59-a08ece09ed21",
   "metadata": {
    "tags": []
   },
   "outputs": [
    {
     "data": {
      "text/plain": [
       "436"
      ]
     },
     "execution_count": 8,
     "metadata": {},
     "output_type": "execute_result"
    }
   ],
   "source": [
    "len(texts)"
   ]
  },
  {
   "cell_type": "code",
   "execution_count": 9,
   "id": "395b047a-985c-4850-95c0-270864bd167e",
   "metadata": {
    "tags": []
   },
   "outputs": [],
   "source": [
    "Chroma().delete_collection()"
   ]
  },
  {
   "cell_type": "code",
   "execution_count": 10,
   "id": "5097760b-929e-4c23-9b41-26e87bb29751",
   "metadata": {
    "tags": []
   },
   "outputs": [],
   "source": [
    "# If using OpenAI embeddings\n",
    "# embeddings = OpenAIEmbeddings()\n",
    "# docsearch = Chroma.from_documents(texts, embeddings, persist_directory='database')"
   ]
  },
  {
   "cell_type": "code",
   "execution_count": 11,
   "id": "39f3f2f1-7891-46a8-b568-23fa57008889",
   "metadata": {
    "tags": []
   },
   "outputs": [],
   "source": [
    "embedding_func = embedding_functions.SentenceTransformerEmbeddingFunction(model_name=\"avsolatorio/GIST-Embedding-v0\")\n",
    "e = SentenceTransformerEmbeddings(model_name=\"avsolatorio/GIST-Embedding-v0\")\n",
    "\n",
    "client = chromadb.PersistentClient()\n",
    "collection = client.get_or_create_collection(\"collection\", embedding_function=embedding_func)\n",
    "\n",
    "if collection.count() < 1:\n",
    "    print(\"populating db\")\n",
    "\n",
    "    for doc in texts:\n",
    "        collection.add(\n",
    "            ids=[str(uuid.uuid1())],\n",
    "            metadatas=doc.metadata, \n",
    "            documents=doc.page_content\n",
    "            )\n",
    "\n",
    "\n",
    "db = Chroma(client=client,\n",
    "            collection_name=\"collection\",\n",
    "            embedding_function=e\n",
    "    )\n",
    "\n",
    "docsearch = db.as_retriever(threshold=0.75)"
   ]
  },
  {
   "cell_type": "code",
   "execution_count": 12,
   "id": "f3bdd939-aa56-4625-a50d-39a0e860d775",
   "metadata": {
    "tags": []
   },
   "outputs": [
    {
     "data": {
      "text/plain": [
       "VectorStoreRetriever(tags=['Chroma', 'HuggingFaceEmbeddings'], vectorstore=<langchain_community.vectorstores.chroma.Chroma object at 0x2ac40fcd0>)"
      ]
     },
     "execution_count": 12,
     "metadata": {},
     "output_type": "execute_result"
    }
   ],
   "source": [
    "docsearch"
   ]
  },
  {
   "cell_type": "code",
   "execution_count": 13,
   "id": "f143a051-2431-484a-9d43-87c352d65795",
   "metadata": {
    "tags": []
   },
   "outputs": [],
   "source": [
    "qa = pd.read_csv(\"../data/test/sample_qna.csv\")"
   ]
  },
  {
   "cell_type": "code",
   "execution_count": 14,
   "id": "9e12154c-7588-4244-a466-d96290c0706c",
   "metadata": {
    "tags": []
   },
   "outputs": [
    {
     "data": {
      "text/html": [
       "<div>\n",
       "<style scoped>\n",
       "    .dataframe tbody tr th:only-of-type {\n",
       "        vertical-align: middle;\n",
       "    }\n",
       "\n",
       "    .dataframe tbody tr th {\n",
       "        vertical-align: top;\n",
       "    }\n",
       "\n",
       "    .dataframe thead th {\n",
       "        text-align: right;\n",
       "    }\n",
       "</style>\n",
       "<table border=\"1\" class=\"dataframe\">\n",
       "  <thead>\n",
       "    <tr style=\"text-align: right;\">\n",
       "      <th></th>\n",
       "      <th>Question</th>\n",
       "      <th>Answer</th>\n",
       "    </tr>\n",
       "  </thead>\n",
       "  <tbody>\n",
       "    <tr>\n",
       "      <th>0</th>\n",
       "      <td>I have an operator catalog image with me, `qua...</td>\n",
       "      <td>You can make the operators available for insta...</td>\n",
       "    </tr>\n",
       "    <tr>\n",
       "      <th>1</th>\n",
       "      <td>I added a catalog source to my cluster, but I ...</td>\n",
       "      <td>Once you add a catalog source to your cluster,...</td>\n",
       "    </tr>\n",
       "    <tr>\n",
       "      <th>2</th>\n",
       "      <td>How can I see what operators are available for...</td>\n",
       "      <td>You can see what operators are available for i...</td>\n",
       "    </tr>\n",
       "    <tr>\n",
       "      <th>3</th>\n",
       "      <td>How can I install an operator on my cluster fr...</td>\n",
       "      <td>You can see what operators are available for i...</td>\n",
       "    </tr>\n",
       "    <tr>\n",
       "      <th>4</th>\n",
       "      <td>Hey, looking for guidance on how to do Tier 2 ...</td>\n",
       "      <td>You're going to want to avoid a channel called...</td>\n",
       "    </tr>\n",
       "  </tbody>\n",
       "</table>\n",
       "</div>"
      ],
      "text/plain": [
       "                                            Question  \\\n",
       "0  I have an operator catalog image with me, `qua...   \n",
       "1  I added a catalog source to my cluster, but I ...   \n",
       "2  How can I see what operators are available for...   \n",
       "3  How can I install an operator on my cluster fr...   \n",
       "4  Hey, looking for guidance on how to do Tier 2 ...   \n",
       "\n",
       "                                              Answer  \n",
       "0  You can make the operators available for insta...  \n",
       "1  Once you add a catalog source to your cluster,...  \n",
       "2  You can see what operators are available for i...  \n",
       "3  You can see what operators are available for i...  \n",
       "4  You're going to want to avoid a channel called...  "
      ]
     },
     "execution_count": 14,
     "metadata": {},
     "output_type": "execute_result"
    }
   ],
   "source": [
    "qa.head()"
   ]
  },
  {
   "cell_type": "code",
   "execution_count": 15,
   "id": "5b08a3ee-7c0b-4d2d-b7a1-197598ae5c3c",
   "metadata": {
    "tags": []
   },
   "outputs": [],
   "source": [
    "questions = qa['Question'].tolist()\n",
    "real_answers = qa['Answer'].tolist()\n",
    "generated_answers = list()"
   ]
  },
  {
   "cell_type": "code",
   "execution_count": 16,
   "id": "8250e4c4-f0a3-4e7a-80c8-1836281fedec",
   "metadata": {
    "tags": []
   },
   "outputs": [],
   "source": [
    "selected_questions = questions[0:2]"
   ]
  },
  {
   "cell_type": "markdown",
   "id": "8391b7e3-46a2-45d1-8c39-f83a2a0a209c",
   "metadata": {},
   "source": [
    "## Model for QnA (using Mistral 7B model deployed locally using llama CPP"
   ]
  },
  {
   "cell_type": "markdown",
   "id": "e5e1f1f1-8c26-4023-bbea-a2379ca93886",
   "metadata": {},
   "source": [
    "To deploy locally\n",
    "`python3 -m llama_cpp.server --model mistral-7b-instruct-v0.1.Q4_K_M.gguf`"
   ]
  },
  {
   "cell_type": "code",
   "execution_count": 18,
   "id": "7d42777f-8bff-4e11-ba31-74884bece638",
   "metadata": {},
   "outputs": [],
   "source": [
    "llm = ChatOpenAI(base_url=\"http://localhost:8000/v1\", \n",
    "                 api_key=\"x\",)"
   ]
  },
  {
   "cell_type": "code",
   "execution_count": 19,
   "id": "6b08836f-2941-4f59-8f64-314cef233899",
   "metadata": {},
   "outputs": [],
   "source": [
    "# llm = ChatOpenAI()"
   ]
  },
  {
   "cell_type": "markdown",
   "id": "29c3fbdb-b03c-4996-8f37-f1fb2391d1ca",
   "metadata": {},
   "source": [
    "## Without RAG - Basic Prompt"
   ]
  },
  {
   "cell_type": "code",
   "execution_count": 52,
   "id": "fa9bed54-d1db-4250-b80d-8a4cb6f03a34",
   "metadata": {
    "tags": []
   },
   "outputs": [],
   "source": [
    "template = \"\"\"Question: {question}\n",
    "\n",
    "Answer:\"\"\"\n",
    "\n",
    "prompt = ChatPromptTemplate.from_template(template)\n",
    "chain = prompt | llm"
   ]
  },
  {
   "cell_type": "code",
   "execution_count": 53,
   "id": "e63688e0-ed22-48c0-be84-2322f9da85c7",
   "metadata": {
    "tags": []
   },
   "outputs": [],
   "source": [
    "def answer_question(query, runnable):\n",
    "    \"\"\"\n",
    "    Takes in query, and llm chain to generate answer\n",
    "    \"\"\"\n",
    "    ## Generate answer\n",
    "    answer = runnable.invoke({\"question\": query})\n",
    "    return answer"
   ]
  },
  {
   "cell_type": "code",
   "execution_count": 54,
   "id": "586829e7-b7d3-419a-87a4-11b020647633",
   "metadata": {
    "tags": []
   },
   "outputs": [
    {
     "name": "stdout",
     "output_type": "stream",
     "text": [
      "Q: I have an operator catalog image with me, `quay.io/operator-framework/upstream-community-operators:latest`, how do I make the operators included in the catalog image, available for installation on my cluster? \n",
      "\n",
      "\n",
      "A: content=' To use the operators included in the `quay.io/operator-framework/upstream-community-operators:latest` container image on your cluster, you need to follow these steps:\\n\\n1. Pull the container image onto your cluster using the kubectl command-line tool:\\n```\\nkubectl pull quay.io/operator-framework/upstream-community-operators:latest\\n```\\n2. Load the container image into the default namespace of your cluster using the kubectl command-line tool:\\n```\\nkubectl load --local --image=quay.io/operator-framework/upstream-community-operators:latest --namespace=default\\n```\\n3. Verify that the container image has been loaded into your cluster by running a kubectl get pods command in the default namespace:\\n```\\nkubectl get pods -n default\\n```\\nThis should return a list of pods running the container image.\\n4. To install an operator from the container image, you need to use a Kubernetes manifest file that specifies the operator to install. You can find examples of manifest files in the Kubernetes documentation or online resources.\\n5. Once you have a manifest file, you can use the kubectl command-line tool to apply it to your cluster:\\n```\\nkubectl apply -f manifest.yaml\\n```\\nThis should install the operator specified in the manifest file onto your cluster.\\n6. Verify that the operator has been installed by running a kubectl get pods command in the namespace where you applied the manifest file:\\n```\\nkubectl get pods -n <namespace>\\n```\\nThis should return a list of pods running the operator.'\n",
      "\n",
      "1/2 done\n",
      "Q: I added a catalog source to my cluster, but I don't see any operators available for installation, did something go wrong? \n",
      "A: content=' It is possible that the catalog source you added may not have any operators available for installation. This could happen if the source is not configured correctly or if there are issues with the operators themselves.\\n\\nOne thing you can try is to check if the catalog source is enabled and if there are any errors associated with it. You can do this by running the following command in the Kubernetes CLI:\\n```\\nkubectl get cs --all-namespaces -o wide\\n```\\nThis will list all of the catalog sources in your cluster and their status. Look for the source that you added and make sure it is enabled (indicated by the \"Status\" column).\\n\\nIf the source is enabled and there are no errors associated with it, then it\\'s possible that there are no operators available for installation from that source. In this case, you may need to check with the operator provider or consult their documentation to determine if there are any issues with the operators themselves.\\n\\nIf you are still unable to resolve the issue, you can also try contacting Kubernetes support or the operator provider for further assistance.'\n",
      "\n",
      "2/2 done\n"
     ]
    }
   ],
   "source": [
    "generated_answers_1 = list()\n",
    "i=1\n",
    "for query in selected_questions:\n",
    "\n",
    "    answer = answer_question(query, chain)\n",
    "\n",
    "    generated_answers_1.append(answer.content)\n",
    "    print(f\"Q: {query}\\nA: {answer}\\n\")\n",
    "\n",
    "    ## Add delay to avoid rate limit error\n",
    "    time.sleep(1)\n",
    "    print(f\"{i}/{len(selected_questions)} done\")\n",
    "    i+=1"
   ]
  },
  {
   "cell_type": "markdown",
   "id": "55f233a2-e2b3-4e68-bb0a-0a194a0e029b",
   "metadata": {},
   "source": [
    "### Without RAG - Advanced Prompt"
   ]
  },
  {
   "cell_type": "code",
   "execution_count": 55,
   "id": "27ab7cc4-bda7-4c25-be81-965f47b4701d",
   "metadata": {
    "tags": []
   },
   "outputs": [],
   "source": [
    "template = \"\"\"You are a support engineer who is trying to generate answers for questions around the Operator Frameworks product. Your goal is to answer questions that OLM customers and users would find relevant, informative, and useful. You should be descriptive and provide links to support your answer.\n",
    "\n",
    "Here is a description of the product:\n",
    "Operator Lifecycle Manager (OLM) project is a component of the Operator Frameworkan open source toolkit to manage Kubernetes native applications, called Operators, in a streamlined and scalable way.\n",
    "\n",
    "Question: {question}\n",
    "\n",
    "Answer:\"\"\"\n",
    "\n",
    "prompt = ChatPromptTemplate.from_template(template)\n",
    "chain = prompt | llm"
   ]
  },
  {
   "cell_type": "code",
   "execution_count": 56,
   "id": "dabf0912-1288-428c-9c1f-2d4fa20f91b5",
   "metadata": {},
   "outputs": [],
   "source": [
    "def answer_question(query, runnable):\n",
    "    \"\"\"\n",
    "    Takes in query, and llm chain to generate answer\n",
    "    \"\"\"\n",
    "    ## Generate answer\n",
    "    answer = runnable.invoke({\"question\": query})\n",
    "    return answer"
   ]
  },
  {
   "cell_type": "code",
   "execution_count": 57,
   "id": "b62ec385-665a-4af5-a12b-cf137267370e",
   "metadata": {
    "tags": []
   },
   "outputs": [
    {
     "name": "stdout",
     "output_type": "stream",
     "text": [
      "Q: I have an operator catalog image with me, `quay.io/operator-framework/upstream-community-operators:latest`, how do I make the operators included in the catalog image, available for installation on my cluster? \n",
      "\n",
      "\n",
      "A: content=\" To make the operators included in the `quay.io/operator-framework/upstream-community-operators:latest` catalog image available for installation on your cluster, you can follow these steps:\\n\\n1. First, you need to import the catalog image into your OLM cluster using the `olmctl import` command.\\n```css\\nolmctl import --namespace=default --source=quay://operator-framework/upstream-community-operators:latest\\n```\\nThis command will import the catalog image into the `default` namespace of your OLM cluster.\\n\\n2. Once the catalog image has been imported, you can view the available operators in the catalog by running the `olmctl list` command. This command will list all the operators in the catalog along with their versions and other metadata.\\n```css\\nolmctl list --namespace=default\\n```\\n3. To install an operator from the catalog, you can use the `olmctl create` command followed by the operator name and the desired version. For example, to install the `mysql-operator` version `8.0.2`, you can run the following command:\\n```css\\nolmctl create --namespace=default --name=mysql-operator --image=mysql-operator:8.0.2 --install-crds=true --set=app-version=8.0.2\\n```\\nThis command will create a new deployment for the `mysql-operator` version `8.0.2` in the `default` namespace of your cluster. The `--install-crds` flag will also install the necessary custom resource definitions (CRDs) required by the operator. The `--set` flag will set the operator's application version to `8.0.2`.\\n\\nThat's it! The operator has been successfully installed on your cluster. You can verify the status of the deployment by running the `kubectl get deployments` command.\\n\\nFor more information on using OLM, refer to the official documentation: <https://operatorframework.io/docs/olm/latest/using-olm/>\"\n",
      "\n",
      "1/2 done\n",
      "Q: I added a catalog source to my cluster, but I don't see any operators available for installation, did something go wrong? \n",
      "A: content=\" It's possible that there might be an issue with the catalog source you added. Here are some steps you can try to troubleshoot:\\n\\n1. Make sure that the catalog source you added is actually connected to the cluster you're trying to install operators on. Check the connection details in the catalog source configuration file and ensure they match your cluster's details.\\n2. Verify that there are indeed operators available in the catalog source you added. Check the catalog source's documentation or release notes for information on available operators. If there are no operators available, you may need to add another catalog source or search for operators in other places.\\n3. Check if there are any errors or warnings in the OLM logs related to operator installation. You can access the logs using the `olm logs` command or by checking the logs in your cluster's event viewer. Look for any error messages or warnings related to operator installation and troubleshoot them accordingly.\\n4. If you're still unable to install operators, consider reaching out to the Operator Framework community or contacting OLM support for further assistance. They may be able to help you identify any issues with your installation process or provide additional guidance on how to troubleshoot the problem.\"\n",
      "\n",
      "2/2 done\n"
     ]
    }
   ],
   "source": [
    "generated_answers_2 = list()\n",
    "i=1\n",
    "for query in selected_questions:\n",
    "\n",
    "    answer = answer_question(query, chain)\n",
    "\n",
    "    generated_answers_2.append(answer.content)\n",
    "    print(f\"Q: {query}\\nA: {answer}\\n\")\n",
    "\n",
    "    ## Add delay to avoid rate limit error\n",
    "    time.sleep(1)\n",
    "    print(f\"{i}/{len(selected_questions)} done\")\n",
    "    i+=1"
   ]
  },
  {
   "cell_type": "markdown",
   "id": "9aca4469-6b2e-4762-99d1-f7c521eca03d",
   "metadata": {},
   "source": [
    "### With RAG"
   ]
  },
  {
   "cell_type": "code",
   "execution_count": 58,
   "id": "341f637a-69a7-451b-96e0-dccb8b978bc9",
   "metadata": {
    "tags": []
   },
   "outputs": [],
   "source": [
    "template = \"\"\"\n",
    "You are a support engineer who is trying to generate answers for questions around the Operator Frameworks product. Your goal is to answer questions that OLM customers and users would find relevant, informative, and useful. You should be descriptive and provide links to support your answer.\n",
    "\n",
    "Here is a description of the product:\n",
    "Operator Lifecycle Manager (OLM) project is a component of the Operator Framework open source toolkit to manage Kubernetes native applications, called Operators, in a streamlined and scalable way.\n",
    "\n",
    "Question: {question}\n",
    "\n",
    "Here are a few input and output pairs examples to guide the model:\n",
    "\n",
    "Input: \"What is OLM?\"\n",
    "Output: \"Operator Lifecycle Manager (OLM) project is a component of the Operator Frameworkan open source toolkit to manage Kubernetes native applications, called Operators, in a streamlined and scalable way.\"\n",
    "\n",
    "Input: \"What are OLM features?\"\n",
    "Output: \"OLM provides rich update mechanisms to keep Kubernetes native applications up to date automatically. With OLMs packaging format Operators can express dependencies on the platform and on other Operators.\"\n",
    "\n",
    "Please help this OLM customer to find the answer to this {question} given the relevant content around the question {context}:\n",
    "\n",
    "If you don't know the answer, please respond with: \"I'm sorry, I don't have enough information to generate that content.\"\n",
    "\"\"\"\n",
    "\n",
    "prompt = ChatPromptTemplate.from_template(template)\n",
    "chain = prompt | llm"
   ]
  },
  {
   "cell_type": "code",
   "execution_count": 59,
   "id": "e782d0e9-25b1-4f68-a53b-6570c0399fd5",
   "metadata": {
    "tags": []
   },
   "outputs": [],
   "source": [
    "def answer_question(query, index, chain):\n",
    "    \"\"\"\n",
    "    Takes in query, index to search from, and llm chain to generate answer\n",
    "    \"\"\"\n",
    "    ## Retrieve docs\n",
    "\n",
    "    docs = index.get_relevant_documents(query)\n",
    "    print(docs)\n",
    "    print(len(docs))\n",
    "    \n",
    "    ## Generate answer\n",
    "    print(index)\n",
    "    answer = chain.invoke({\"question\": query, \"context\": index})\n",
    "    return answer"
   ]
  },
  {
   "cell_type": "code",
   "execution_count": 60,
   "id": "119a28b6-1e4e-4959-866f-d364fec79e70",
   "metadata": {
    "tags": []
   },
   "outputs": [
    {
     "name": "stdout",
     "output_type": "stream",
     "text": [
      "[Document(page_content='There are many possible ways to build a catalog, but an extremely simple approach would be to:\\n\\n- Maintain a single configuration file containing image references for each operator in the catalog\\n   ```yaml\\n   name: community-operators\\n   repo: quay.io/community-operators/catalog\\n   tag: latest\\n   references:\\n   - name: etcd-operator\\n     image: quay.io/etcd-operator/catalog@sha256:5891b5b522d5df086d0ff0b110fbd9d21bb4fc7163af34d08286a2e846f6be03\\n   - name: prometheus-operator\\n     image: quay.io/prometheus-operator/catalog@sha256:e258d248fda94c63753607f7c4494ee0fcbe92f1a76bfdac795c9d84101eb317', metadata={'source': '../data/external/olm/docs/Reference/file-based-catalogs.md'}), Document(page_content='As a cluster administrator, you can install an Operator from the OperatorHub using the OpenShift Container Platform web console or the CLI. You can then subscribe the Operator to one or more namespaces to make it available for developers on your cluster.\\n\\nExample: Install the latest version of an Operator\\n\\nBefore installing an operator into a namespace, you will need to create an OperatorGroup that targets the namespaces your operator is planning to watch, to generate the required RBACs for your operator in those namespaces.\\n\\nIf you want to install an operator named `my-operator` in the namespace `foo` that is cluster scoped (i.e installModes:AllNamespaces), from a catalog named `my-catalog` that is in the namespace `olm`.\\n\\nCreate a global OperatorGroup (which selects all namespaces):', metadata={'source': '../data/external/olm/docs/Concepts/operators-on-cluster.md'}), Document(page_content='```\\n\\n## Installing an Operator using OLM\\n\\nWhen you install OLM, it comes packaged with a number of Operators developed by the community that you can install instantly.\\nYou can use the `packagemanifest` api to see the operators available for you to install in your cluster:\\n\\n```sh\\n$ kubectl get packagemanifest -n olm\\nNAME                                       CATALOG               AGE\\n# ...\\nnoobaa-operator                            Community Operators   2m17s\\nproject-quay                               Community Operators   2m17s\\nack-eks-controller                         Community Operators   2m17s\\n# ...\\n```\\n\\nTo install the quay operator in the default namespace, first create an `OperatorGroup` for the default namespace:\\n\\n```sh\\n$ cat operatorgroup.yaml\\nkind: OperatorGroup\\napiVersion: operators.coreos.com/v1\\nmetadata:\\n  name: og-single\\n  namespace: default\\nspec:\\n  targetNamespaces:\\n  - default\\n\\n$ kubectl apply -f operatorgroup.yaml\\noperatorgroup.operators.coreos.com/og-single created', metadata={'source': '../data/external/olm/docs/getting-started/_index.md'}), Document(page_content=\"`OLM`'s `CatalogSource` [CRD][catalogsource-crd] accepts a container image reference to a catalog of operators that can\\nbe made available to install in a cluster. You can make your operator bundle available to install in a cluster by adding\\nit to a catalog, packaging the catalog in a container image, and then using that image reference in the `CatalogSource`.\\nThis image contains all of the metadata required for OLM to manage the lifecycle of all of the operators it contains.\\n\\nOLM uses a plaintext [file-based catalog][file-based-catalog-spec] format (JSON or YAML) to store these records in a Catalog, and there are two approaches we can take to creating a Catalog, adding operators to it, and validating it.\\nLet's walk through a simple example for both approaches.\\n\\n### Catalog Creation Using Catalog Templates\", metadata={'source': '../data/external/olm/docs/Tasks/creating-a-catalog.md'})]\n",
      "4\n",
      "tags=['Chroma', 'HuggingFaceEmbeddings'] vectorstore=<langchain_community.vectorstores.chroma.Chroma object at 0x2ac40fcd0>\n",
      "Q: I have an operator catalog image with me, `quay.io/operator-framework/upstream-community-operators:latest`, how do I make the operators included in the catalog image, available for installation on my cluster? \n",
      "\n",
      "\n",
      "A: content=' To make the operators included in the catalog image `quay.io/operator-framework/upstream-community-operators:latest` available for installation on your cluster, you need to follow these steps:\\n\\n1. Install the Operator Lifecycle Manager (OLM) component of the Operator Framework toolkit on your cluster by running the following command:\\n```bash\\nkubectl apply -f https://raw.githubusercontent.com/operatorframework/operator-lifecycle-manager/main/packages/olm/resources/charts/olm/values.yaml\\n```\\nThis will create an OLM installation on your cluster with the default configuration.\\n2. Create an installation of the catalog image `quay.io/operator-framework/upstream-community-operators:latest` in the OLM installation by running the following command:\\n```bash\\nkubectl apply -f https://raw.githubusercontent.com/operatorframework/operator-lifecycle-manager/main/packages/olm/resources/charts/catalog/values.yaml\\n```\\nThis will create a catalog installation in the OLM installation with the default configuration.\\n3. Once the catalog installation is created, you can install the operators included in the catalog image by running the following command:\\n```bash\\nkubectl apply -f https://raw.githubusercontent.com/operatorframework/operator-lifecycle-manager/main/packages/olm/resources/charts/catalog/crds/v1beta1.install.crds/example-operator.crds.yaml\\n```\\nThis will create custom resource definitions (CRDs) in the OLM installation for the example operator included in the catalog image, allowing you to install it on your cluster.\\n4. Once the CRDs are created, you can install the operator by running the following command:\\n```bash\\nkubectl apply -f https://raw.githubusercontent.com/operatorframework/operator-lifecycle-manager/main/packages/olm/resources/charts/catalog/crds/example-operator.crds/example-operator.yaml\\n```\\nThis will create an instance of the example operator in your cluster.\\n\\nI hope this helps! Let me know if you have any further questions.'\n",
      "\n",
      "1/2 done\n",
      "[Document(page_content='---\\ntitle: \"List operators available to install on cluster\"\\ndate: 2017-01-05\\nweight: 5\\ndescription: >\\n   List operators from a collection of catalogs\\n---\\n\\n## List your operator\\n\\nThe `PackageManifest` API exposes content from existing [CatalogSources](/docs/concepts/crds/catalogsource) on cluster. Querying that API reveals the list of operators available to install.\\n\\n>Note: [CatalogSources](/docs/concepts/crds/catalogsource) in OLM are either global or namespaced. Global CatalogSources contain operators that will be available for installing in all namespaces, while namespaced CatalogSources only contains operators that are available to be installed in a specific namespace.\\n\\n### Using the PackageManifest API\\n\\nThe `PackageManifest` API when queried, will return the union of globally available as well as namespaced available operators, from the namespace you\\'re querying in.\\n\\n```bash\\nkubectl get packagemanifest -n <namespace>', metadata={'source': '../data/external/olm/docs/Tasks/list-operators-available-to-install.md'}), Document(page_content=\"`OLM`'s `CatalogSource` [CRD][catalogsource-crd] accepts a container image reference to a catalog of operators that can\\nbe made available to install in a cluster. You can make your operator bundle available to install in a cluster by adding\\nit to a catalog, packaging the catalog in a container image, and then using that image reference in the `CatalogSource`.\\nThis image contains all of the metadata required for OLM to manage the lifecycle of all of the operators it contains.\\n\\nOLM uses a plaintext [file-based catalog][file-based-catalog-spec] format (JSON or YAML) to store these records in a Catalog, and there are two approaches we can take to creating a Catalog, adding operators to it, and validating it.\\nLet's walk through a simple example for both approaches.\\n\\n### Catalog Creation Using Catalog Templates\", metadata={'source': '../data/external/olm/docs/Tasks/creating-a-catalog.md'}), Document(page_content='On cluster, OLM reads `CatalogSource`s to know what operators are available for installation.\\n\\n```yaml\\napiVersion: \"operators.coreos.com/v1alpha1\"\\nkind: \"CatalogSource\"\\nmetadata:\\n  name: \"my-operators\"\\n  namespace: \"operators\"\\nspec:\\n  sourceType: grpc\\n  image: example.com/my-namespace/cool-catalog:v1\\n  displayName: \"My Operators\"\\n  priority: 100', metadata={'source': '../data/external/olm/docs/Concepts/olm-architecture/dependency-resolution/_index.md'}), Document(page_content='olm-operators                                   olm          OperatorGroup               Installed\\npackageserver                                   olm          ClusterServiceVersion       Installed\\noperatorhubio-catalog                           olm          CatalogSource               Installed', metadata={'source': '../data/external/olm/docs/getting-started/_index.md'})]\n",
      "4\n",
      "tags=['Chroma', 'HuggingFaceEmbeddings'] vectorstore=<langchain_community.vectorstores.chroma.Chroma object at 0x2ac40fcd0>\n",
      "Q: I added a catalog source to my cluster, but I don't see any operators available for installation, did something go wrong? \n",
      "A: content=' If you added a catalog source to your cluster but don\\'t see any operators available for installation, there could be several reasons why this might be occurring. Here are some steps you can try:\\n\\n1. Check if the catalog source is enabled in the cluster\\'s configuration. If it\\'s not enabled, you won\\'t see any operators available for installation. To enable the catalog source, you can use the kubectl command line tool with the following command: \\n```css\\nkubectl label namespace <namespace> operator.k8s.io/catalog-source=<catalog-source>\\n```\\nReplace `<namespace>` with the name of the namespace where you want to enable the catalog source, and replace `<catalog-source>` with the name of the catalog source you want to enable.\\n2. Verify that the catalog source has operators available for installation. Some catalog sources may not have any operators available for installation, so it\\'s possible that this is the reason why you\\'re not seeing any operators. You can check if an operator is available by querying the catalog source\\'s API. For example, if you\\'re using the Chroma catalog source, you can use the following command:\\n```css\\nkubectl get operators --all-namespaces -o jsonpath=\\'{range .items[*]}{.metadata.name}{\"\\\\t\"}{end}\\' --context <context-name>\\n```\\nReplace `<context-name>` with the name of the Kubernetes context where you\\'re running the command. If you see any operators listed in the output, they are available for installation through the catalog source.\\n3. Check if there are any errors in the catalog source\\'s logs. If there are any errors in the catalog source\\'s logs, they may indicate why operators aren\\'t available for installation. To view the logs, you can use the following command:\\n```css\\nkubectl logs <pod-name> -n <namespace>\\n```\\nReplace `<pod-name>` with the name of the pod running the catalog source, and replace `<namespace>` with the name of the namespace where the pod is running. Look for any error messages in the logs that may indicate why operators aren\\'t available.\\n4. Check if there are any issues with the operator images themselves. If there are any issues with the operator images, such as network connectivity issues or image pull errors, this could prevent operators from being installed. To check if there are any issues with the operator images, you can use the following command:\\n```css\\nkubectl describe pod <pod-name> -n <namespace>\\n```\\nReplace `<pod-name>` with the name of the pod running the operator image, and replace `<namespace>` with the name of the namespace where the pod is running. Look for any error messages in the output that may indicate issues with the operator image.\\n\\nIf none of these steps resolve the issue, you may need to contact the catalog source\\'s support team for further assistance.'\n",
      "\n",
      "2/2 done\n"
     ]
    }
   ],
   "source": [
    "generated_answers_3 = list()\n",
    "i=1\n",
    "for query in selected_questions:\n",
    "    answer = answer_question(query, docsearch, chain)\n",
    "\n",
    "    generated_answers_3.append(answer.content)\n",
    "    print(f\"Q: {query}\\nA: {answer}\\n\")\n",
    "\n",
    "    ## Add delay to avoid rate limit error\n",
    "    time.sleep(1)\n",
    "    print(f\"{i}/{len(selected_questions)} done\")\n",
    "    i+=1"
   ]
  },
  {
   "cell_type": "markdown",
   "id": "b237373e-4cf6-46d3-b4a6-e579ae69be5d",
   "metadata": {
    "id": "28dccd33-8480-4f86-a650-7adc8ebbe859"
   },
   "source": [
    "# Evaluate the generated answers using a metric"
   ]
  },
  {
   "cell_type": "code",
   "execution_count": 62,
   "id": "89f41cbe-11c6-4ad1-9d73-3b0f7fe7f623",
   "metadata": {
    "id": "489596cf-f49f-4b67-9ed8-f80b814f591c",
    "tags": []
   },
   "outputs": [],
   "source": [
    "def calc_bleu(reference, candidate):\n",
    "\n",
    "    for i in range(len(reference)):\n",
    "        print('BLEU score -> {}'.format(sentence_bleu(reference[i].split(), candidate[i].split(), smoothing_function=SmoothingFunction().method4)))"
   ]
  },
  {
   "cell_type": "code",
   "execution_count": 63,
   "id": "b2031b5d-f24f-4b8e-beac-9b1677fbb1b9",
   "metadata": {
    "id": "02407e07-8299-444a-b04b-c8cea04e5e40",
    "tags": []
   },
   "outputs": [
    {
     "name": "stdout",
     "output_type": "stream",
     "text": [
      "BLEU score -> 0.0026912080031739434\n",
      "BLEU score -> 0\n"
     ]
    }
   ],
   "source": [
    "calc_bleu(real_answers[0:2], generated_answers_1)"
   ]
  },
  {
   "cell_type": "code",
   "execution_count": 64,
   "id": "03e8be2f-1e16-4cf7-93a5-b69d40118194",
   "metadata": {
    "id": "a74e1c96-a548-4576-ad64-a0a8122355ee",
    "tags": []
   },
   "outputs": [
    {
     "name": "stdout",
     "output_type": "stream",
     "text": [
      "BLEU score -> 0.0016114342264778043\n",
      "BLEU score -> 0\n"
     ]
    }
   ],
   "source": [
    "calc_bleu(real_answers[0:2], generated_answers_2)"
   ]
  },
  {
   "cell_type": "code",
   "execution_count": 65,
   "id": "26814213-8542-4936-8982-ca7d6fe5b379",
   "metadata": {
    "id": "065a24b0-8b77-4303-8124-f16bd865ba32",
    "tags": []
   },
   "outputs": [
    {
     "name": "stdout",
     "output_type": "stream",
     "text": [
      "BLEU score -> 0.0018364395093896158\n",
      "BLEU score -> 0.0009457964768925455\n"
     ]
    }
   ],
   "source": [
    "calc_bleu(real_answers[0:2], generated_answers_3)"
   ]
  },
  {
   "cell_type": "markdown",
   "id": "f0cefdb1-cc3a-409c-8a81-0a4d4e1133a2",
   "metadata": {
    "id": "1a29d142-3df9-48ee-9df4-18ba28577697"
   },
   "source": [
    "# Post processing or Sanity Checks"
   ]
  },
  {
   "cell_type": "code",
   "execution_count": 66,
   "id": "2ee4debb-6125-46b1-a623-df43a80f5700",
   "metadata": {
    "id": "c8624f97-e193-44e2-adc7-d9e459d64fba"
   },
   "outputs": [
    {
     "name": "stdout",
     "output_type": "stream",
     "text": [
      "generated_answers_1 returned\n",
      "generated_answers_2 returned\n",
      "generated_answers_3 returned\n"
     ]
    }
   ],
   "source": [
    "def check_links(text):\n",
    "    urls = re.findall(r'\\((https?:\\/\\/[^\\s\\/$.?#].[^\\s()]*\\/[^\\s\\/$.?#]*(?:\\.html)?)\\)', text)\n",
    "    for url in urls:\n",
    "        try:\n",
    "            response = requests.get(url)\n",
    "            if response.status_code == 200:\n",
    "                print(f\"The link {url} is valid.\")\n",
    "            else:\n",
    "                print(f\"The link {url} returned a status code of {response.status_code}.\")\n",
    "        except requests.exceptions.RequestException as e:\n",
    "            print(f\"The link {url} could not be reached. Error: {e}\")\n",
    "\n",
    "print(\"generated_answers_1 returned\")\n",
    "for text in generated_answers_1:\n",
    "    check_links(text)\n",
    "\n",
    "print(\"generated_answers_2 returned\")\n",
    "for text in generated_answers_2:\n",
    "    check_links(text)\n",
    "\n",
    "print(\"generated_answers_3 returned\")\n",
    "for text in generated_answers_3:\n",
    "    check_links(text)"
   ]
  }
 ],
 "metadata": {
  "kernelspec": {
   "display_name": "Python 3.9",
   "language": "python",
   "name": "python3"
  },
  "language_info": {
   "codemirror_mode": {
    "name": "ipython",
    "version": 3
   },
   "file_extension": ".py",
   "mimetype": "text/x-python",
   "name": "python",
   "nbconvert_exporter": "python",
   "pygments_lexer": "ipython3",
   "version": "3.9.16"
  }
 },
 "nbformat": 4,
 "nbformat_minor": 5
}
